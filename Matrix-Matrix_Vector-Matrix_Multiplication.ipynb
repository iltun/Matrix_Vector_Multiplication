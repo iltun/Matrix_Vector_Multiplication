{
 "cells": [
  {
   "cell_type": "code",
   "execution_count": 13,
   "id": "9cdd097c",
   "metadata": {},
   "outputs": [
    {
     "name": "stdout",
     "output_type": "stream",
     "text": [
      "Enter the first matrix:\n",
      "Number of rows: 3\n",
      "Number of columns: 3\n",
      "Enter row 1 elements separated by space: 1 1 1\n",
      "Enter row 2 elements separated by space: 3 4 6\n",
      "Enter row 3 elements separated by space: 100 110 280\n",
      "Enter the second matrix:\n",
      "Number of rows: 3\n",
      "Number of columns: 3\n",
      "Enter row 1 elements separated by space: 1 3 100\n",
      "Enter row 2 elements separated by space: 1 4 110\n",
      "Enter row 3 elements separated by space: 1 6 280\n",
      "\n",
      "\n",
      "\n",
      "\n",
      "\n",
      "\n",
      "Matrix-Matrix Multiplication Result: [[3, 13, 490], [13, 61, 2420], [490, 2420, 100500]]\n"
     ]
    }
   ],
   "source": [
    "def vector_matrix_multiplication(matrix, vector):\n",
    "    if len(matrix[0]) == len(vector):\n",
    "        result = [] \n",
    "        for i in range(len(matrix)): \n",
    "            sum_product = 0 \n",
    "            for j in range(len(vector)):\n",
    "                sum_product += matrix[i][j] * vector[j] \n",
    "            result.append(sum_product)\n",
    "        return result\n",
    "    else:\n",
    "        return \"Can not multiply provided vector and matrix\"\n",
    "\n",
    "\n",
    "def matrix_multiplication(matrix1, matrix2):\n",
    "    if len(matrix1[0]) == len(matrix2):\n",
    "        result = [] \n",
    "        for i in range(len(matrix1)): \n",
    "            row = [] \n",
    "            for j in range(len(matrix2[0])): \n",
    "                sum_product = 0 \n",
    "                for k in range(len(matrix2)): \n",
    "                    sum_product += matrix1[i][k] * matrix2[k][j]\n",
    "                row.append(sum_product)\n",
    "            result.append(row)\n",
    "            print('\\n')\n",
    "        return result\n",
    "    else:\n",
    "        return \"Can not multiply provided matrices\"\n",
    "\n",
    "\n",
    "def input_matrix(prompt):\n",
    "    print(prompt)\n",
    "    rows = int(input(\"Number of rows: \"))\n",
    "    cols = int(input(\"Number of columns: \"))\n",
    "    matrix = []\n",
    "    for i in range(rows):\n",
    "        row = list(map(int, input(f\"Enter row {i+1} elements separated by space: \").split()))\n",
    "        matrix.append(row)\n",
    "    return matrix\n",
    "def input_vector(prompt):\n",
    "    print(prompt)\n",
    "    size = int(input(\"Enter the size of the vector: \"))\n",
    "    vector = list(map(int, input(\"Enter the vector elements separated by space: \").split()))\n",
    "    return vector\n",
    "\n",
    "# Uncomment the following lines to use the input functions and perform multiplications\n",
    "# matrix = input_matrix(\"Enter the matrix:\")\n",
    "# vector = input_vector(\"Enter the vector:\")\n",
    "# print(\"Vector-Matrix Multiplication Result:\", vector_matrix_multiplication(matrix, vector))\n",
    "\n",
    "matrix1 = input_matrix(\"Enter the first matrix:\")\n",
    "matrix2 = input_matrix(\"Enter the second matrix:\")\n",
    "print(\"Matrix-Matrix Multiplication Result:\", matrix_multiplication(matrix1, matrix2))"
   ]
  },
  {
   "cell_type": "code",
   "execution_count": null,
   "id": "d6ce2e29",
   "metadata": {},
   "outputs": [],
   "source": []
  }
 ],
 "metadata": {
  "kernelspec": {
   "display_name": "Python 3 (ipykernel)",
   "language": "python",
   "name": "python3"
  },
  "language_info": {
   "codemirror_mode": {
    "name": "ipython",
    "version": 3
   },
   "file_extension": ".py",
   "mimetype": "text/x-python",
   "name": "python",
   "nbconvert_exporter": "python",
   "pygments_lexer": "ipython3",
   "version": "3.11.4"
  }
 },
 "nbformat": 4,
 "nbformat_minor": 5
}
